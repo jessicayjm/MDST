{
 "cells": [
  {
   "cell_type": "markdown",
   "id": "unusual-presentation",
   "metadata": {
    "colab_type": "text",
    "id": "0a8IYAJUshu1"
   },
   "source": [
    "# Exercises"
   ]
  },
  {
   "cell_type": "markdown",
   "id": "alien-chemistry",
   "metadata": {},
   "source": [
    "These exercises are a mix of Python and pandas/EDA practice. Most should be no more than a few lines of code! "
   ]
  },
  {
   "cell_type": "code",
   "execution_count": 3,
   "id": "temporal-peoples",
   "metadata": {
    "colab": {},
    "colab_type": "code",
    "id": "Jo6wuTgkshu1"
   },
   "outputs": [
    {
     "name": "stdout",
     "output_type": "stream",
     "text": [
      "[4, 5, 6]\n",
      "[6, 5, 4, 3, 2, 1]\n",
      "[12, 10, 8, 6, 4, 2]\n"
     ]
    }
   ],
   "source": [
    "# here is a Python list:\n",
    "\n",
    "a = [1, 2, 3, 4, 5, 6]\n",
    "\n",
    "# get a list containing the last 3 elements of a\n",
    "a1 = a[-3:]\n",
    "print(a1)\n",
    "\n",
    "# reverse the list\n",
    "a.reverse()\n",
    "print(a)\n",
    "\n",
    "# get a list where each entry in a is squared (so the new list is [1, 4, 9, 16, 25, 36])\n",
    "a3 = [i*2 for i in a]\n",
    "print(a3)\n"
   ]
  },
  {
   "cell_type": "code",
   "execution_count": 4,
   "id": "foreign-hobby",
   "metadata": {
    "colab": {},
    "colab_type": "code",
    "id": "qANtg5kQshu2"
   },
   "outputs": [
    {
     "name": "stdout",
     "output_type": "stream",
     "text": [
      "[1 2 3 4 5 6]\n"
     ]
    }
   ],
   "source": [
    "import numpy as np\n",
    "# create a numpy array from this list\n",
    "a.reverse()\n",
    "b = np.array(a)\n",
    "print(b)"
   ]
  },
  {
   "cell_type": "code",
   "execution_count": 22,
   "id": "organic-stupid",
   "metadata": {
    "colab": {},
    "colab_type": "code",
    "id": "91CXRflLshu4"
   },
   "outputs": [
    {
     "data": {
      "text/plain": [
       "3.5"
      ]
     },
     "execution_count": 22,
     "metadata": {},
     "output_type": "execute_result"
    }
   ],
   "source": [
    "# find the mean of b\n",
    "b.mean()"
   ]
  },
  {
   "cell_type": "code",
   "execution_count": 32,
   "id": "bright-kinase",
   "metadata": {
    "colab": {},
    "colab_type": "code",
    "id": "ZJZFwzQfshu9"
   },
   "outputs": [],
   "source": [
    "# get a list where each entry in b is squared (so the new numpy array is [1, 4, 9, 16, 25, 36])\n",
    "# use a different (numpy-specific) approach\n",
    "b = b ** 2"
   ]
  },
  {
   "cell_type": "code",
   "execution_count": 33,
   "id": "universal-trance",
   "metadata": {
    "colab": {},
    "colab_type": "code",
    "id": "ajbA5rCCshu5"
   },
   "outputs": [
    {
     "name": "stdout",
     "output_type": "stream",
     "text": [
      "[[ 1  4  9]\n",
      " [16 25 36]]\n"
     ]
    }
   ],
   "source": [
    "# change b from a length-6 list to a 2x3 matrix\n",
    "b = b.reshape(2, -1)\n",
    "print(b)"
   ]
  },
  {
   "cell_type": "code",
   "execution_count": 34,
   "id": "visible-reading",
   "metadata": {
    "colab": {},
    "colab_type": "code",
    "id": "wancU_PWshu6"
   },
   "outputs": [
    {
     "data": {
      "text/plain": [
       "array([ 4.66666667, 25.66666667])"
      ]
     },
     "execution_count": 34,
     "metadata": {},
     "output_type": "execute_result"
    }
   ],
   "source": [
    "# find the mean value of each row\n",
    "np.mean(b, axis = 1)"
   ]
  },
  {
   "cell_type": "code",
   "execution_count": 35,
   "id": "prompt-breed",
   "metadata": {
    "colab": {},
    "colab_type": "code",
    "id": "N3hXBrBtshu7"
   },
   "outputs": [
    {
     "data": {
      "text/plain": [
       "array([ 8.5, 14.5, 22.5])"
      ]
     },
     "execution_count": 35,
     "metadata": {},
     "output_type": "execute_result"
    }
   ],
   "source": [
    "# find the mean value of each column\n",
    "np.mean(b, axis = 0)"
   ]
  },
  {
   "cell_type": "code",
   "execution_count": 36,
   "id": "round-buffer",
   "metadata": {
    "colab": {},
    "colab_type": "code",
    "id": "GvbO8gBXshu8"
   },
   "outputs": [
    {
     "data": {
      "text/plain": [
       "array([ 9, 36])"
      ]
     },
     "execution_count": 36,
     "metadata": {},
     "output_type": "execute_result"
    }
   ],
   "source": [
    "# find the third column of b\n",
    "b[:, 2]"
   ]
  },
  {
   "cell_type": "code",
   "execution_count": 5,
   "id": "distinguished-clause",
   "metadata": {
    "colab": {},
    "colab_type": "code",
    "id": "WzCQ5HOJshvA"
   },
   "outputs": [
    {
     "data": {
      "text/html": [
       "<div>\n",
       "<style scoped>\n",
       "    .dataframe tbody tr th:only-of-type {\n",
       "        vertical-align: middle;\n",
       "    }\n",
       "\n",
       "    .dataframe tbody tr th {\n",
       "        vertical-align: top;\n",
       "    }\n",
       "\n",
       "    .dataframe thead th {\n",
       "        text-align: right;\n",
       "    }\n",
       "</style>\n",
       "<table border=\"1\" class=\"dataframe\">\n",
       "  <thead>\n",
       "    <tr style=\"text-align: right;\">\n",
       "      <th></th>\n",
       "      <th>Unnamed: 0</th>\n",
       "      <th>beverage_category</th>\n",
       "      <th>beverage</th>\n",
       "      <th>beverage_prep</th>\n",
       "      <th>calories</th>\n",
       "      <th>total fat</th>\n",
       "      <th>trans fat</th>\n",
       "      <th>saturated fat</th>\n",
       "      <th>sodium</th>\n",
       "      <th>total carbohydrates</th>\n",
       "      <th>cholesterol</th>\n",
       "      <th>dietary fibre</th>\n",
       "      <th>sugars</th>\n",
       "      <th>protein</th>\n",
       "      <th>vitamin a</th>\n",
       "      <th>vitamin c</th>\n",
       "      <th>calcium</th>\n",
       "      <th>iron</th>\n",
       "      <th>caffeine</th>\n",
       "    </tr>\n",
       "  </thead>\n",
       "  <tbody>\n",
       "    <tr>\n",
       "      <th>0</th>\n",
       "      <td>0</td>\n",
       "      <td>Coffee</td>\n",
       "      <td>Brewed Coffee</td>\n",
       "      <td>Short</td>\n",
       "      <td>3</td>\n",
       "      <td>0.1</td>\n",
       "      <td>0.0</td>\n",
       "      <td>0.0</td>\n",
       "      <td>0</td>\n",
       "      <td>5</td>\n",
       "      <td>0</td>\n",
       "      <td>0</td>\n",
       "      <td>0</td>\n",
       "      <td>0.3</td>\n",
       "      <td>0.00</td>\n",
       "      <td>0.00</td>\n",
       "      <td>0.00</td>\n",
       "      <td>0.00</td>\n",
       "      <td>175.0</td>\n",
       "    </tr>\n",
       "    <tr>\n",
       "      <th>1</th>\n",
       "      <td>1</td>\n",
       "      <td>Coffee</td>\n",
       "      <td>Brewed Coffee</td>\n",
       "      <td>Tall</td>\n",
       "      <td>4</td>\n",
       "      <td>0.1</td>\n",
       "      <td>0.0</td>\n",
       "      <td>0.0</td>\n",
       "      <td>0</td>\n",
       "      <td>10</td>\n",
       "      <td>0</td>\n",
       "      <td>0</td>\n",
       "      <td>0</td>\n",
       "      <td>0.5</td>\n",
       "      <td>0.00</td>\n",
       "      <td>0.00</td>\n",
       "      <td>0.00</td>\n",
       "      <td>0.00</td>\n",
       "      <td>260.0</td>\n",
       "    </tr>\n",
       "    <tr>\n",
       "      <th>2</th>\n",
       "      <td>2</td>\n",
       "      <td>Coffee</td>\n",
       "      <td>Brewed Coffee</td>\n",
       "      <td>Grande</td>\n",
       "      <td>5</td>\n",
       "      <td>0.1</td>\n",
       "      <td>0.0</td>\n",
       "      <td>0.0</td>\n",
       "      <td>0</td>\n",
       "      <td>10</td>\n",
       "      <td>0</td>\n",
       "      <td>0</td>\n",
       "      <td>0</td>\n",
       "      <td>1.0</td>\n",
       "      <td>0.00</td>\n",
       "      <td>0.00</td>\n",
       "      <td>0.00</td>\n",
       "      <td>0.00</td>\n",
       "      <td>330.0</td>\n",
       "    </tr>\n",
       "    <tr>\n",
       "      <th>3</th>\n",
       "      <td>3</td>\n",
       "      <td>Coffee</td>\n",
       "      <td>Brewed Coffee</td>\n",
       "      <td>Venti</td>\n",
       "      <td>5</td>\n",
       "      <td>0.1</td>\n",
       "      <td>0.0</td>\n",
       "      <td>0.0</td>\n",
       "      <td>0</td>\n",
       "      <td>10</td>\n",
       "      <td>0</td>\n",
       "      <td>0</td>\n",
       "      <td>0</td>\n",
       "      <td>1.0</td>\n",
       "      <td>0.00</td>\n",
       "      <td>0.00</td>\n",
       "      <td>0.02</td>\n",
       "      <td>0.00</td>\n",
       "      <td>410.0</td>\n",
       "    </tr>\n",
       "    <tr>\n",
       "      <th>4</th>\n",
       "      <td>4</td>\n",
       "      <td>Classic Espresso Drinks</td>\n",
       "      <td>Caff Latte</td>\n",
       "      <td>Short Nonfat Milk</td>\n",
       "      <td>70</td>\n",
       "      <td>0.1</td>\n",
       "      <td>0.1</td>\n",
       "      <td>0.0</td>\n",
       "      <td>5</td>\n",
       "      <td>75</td>\n",
       "      <td>10</td>\n",
       "      <td>0</td>\n",
       "      <td>9</td>\n",
       "      <td>6.0</td>\n",
       "      <td>0.10</td>\n",
       "      <td>0.00</td>\n",
       "      <td>0.20</td>\n",
       "      <td>0.00</td>\n",
       "      <td>75.0</td>\n",
       "    </tr>\n",
       "    <tr>\n",
       "      <th>...</th>\n",
       "      <td>...</td>\n",
       "      <td>...</td>\n",
       "      <td>...</td>\n",
       "      <td>...</td>\n",
       "      <td>...</td>\n",
       "      <td>...</td>\n",
       "      <td>...</td>\n",
       "      <td>...</td>\n",
       "      <td>...</td>\n",
       "      <td>...</td>\n",
       "      <td>...</td>\n",
       "      <td>...</td>\n",
       "      <td>...</td>\n",
       "      <td>...</td>\n",
       "      <td>...</td>\n",
       "      <td>...</td>\n",
       "      <td>...</td>\n",
       "      <td>...</td>\n",
       "      <td>...</td>\n",
       "    </tr>\n",
       "    <tr>\n",
       "      <th>237</th>\n",
       "      <td>237</td>\n",
       "      <td>Frappuccino Blended Crme</td>\n",
       "      <td>Strawberries  Crme Without Whipped Cream</td>\n",
       "      <td>Soymilk</td>\n",
       "      <td>320</td>\n",
       "      <td>3.2</td>\n",
       "      <td>0.4</td>\n",
       "      <td>0.0</td>\n",
       "      <td>0</td>\n",
       "      <td>250</td>\n",
       "      <td>67</td>\n",
       "      <td>1</td>\n",
       "      <td>64</td>\n",
       "      <td>5.0</td>\n",
       "      <td>0.06</td>\n",
       "      <td>0.08</td>\n",
       "      <td>0.20</td>\n",
       "      <td>0.10</td>\n",
       "      <td>0.0</td>\n",
       "    </tr>\n",
       "    <tr>\n",
       "      <th>238</th>\n",
       "      <td>238</td>\n",
       "      <td>Frappuccino Blended Crme</td>\n",
       "      <td>Vanilla Bean Without Whipped Cream</td>\n",
       "      <td>Tall Nonfat Milk</td>\n",
       "      <td>170</td>\n",
       "      <td>0.1</td>\n",
       "      <td>0.1</td>\n",
       "      <td>0.0</td>\n",
       "      <td>0</td>\n",
       "      <td>160</td>\n",
       "      <td>39</td>\n",
       "      <td>0</td>\n",
       "      <td>38</td>\n",
       "      <td>4.0</td>\n",
       "      <td>0.06</td>\n",
       "      <td>0.00</td>\n",
       "      <td>0.10</td>\n",
       "      <td>0.00</td>\n",
       "      <td>0.0</td>\n",
       "    </tr>\n",
       "    <tr>\n",
       "      <th>239</th>\n",
       "      <td>239</td>\n",
       "      <td>Frappuccino Blended Crme</td>\n",
       "      <td>Vanilla Bean Without Whipped Cream</td>\n",
       "      <td>Whole Milk</td>\n",
       "      <td>200</td>\n",
       "      <td>3.5</td>\n",
       "      <td>2.0</td>\n",
       "      <td>0.1</td>\n",
       "      <td>10</td>\n",
       "      <td>160</td>\n",
       "      <td>39</td>\n",
       "      <td>0</td>\n",
       "      <td>38</td>\n",
       "      <td>3.0</td>\n",
       "      <td>0.06</td>\n",
       "      <td>0.00</td>\n",
       "      <td>0.10</td>\n",
       "      <td>0.00</td>\n",
       "      <td>0.0</td>\n",
       "    </tr>\n",
       "    <tr>\n",
       "      <th>240</th>\n",
       "      <td>240</td>\n",
       "      <td>Frappuccino Blended Crme</td>\n",
       "      <td>Vanilla Bean Without Whipped Cream</td>\n",
       "      <td>Soymilk</td>\n",
       "      <td>180</td>\n",
       "      <td>1.5</td>\n",
       "      <td>0.2</td>\n",
       "      <td>0.0</td>\n",
       "      <td>0</td>\n",
       "      <td>160</td>\n",
       "      <td>37</td>\n",
       "      <td>1</td>\n",
       "      <td>35</td>\n",
       "      <td>3.0</td>\n",
       "      <td>0.04</td>\n",
       "      <td>0.00</td>\n",
       "      <td>0.10</td>\n",
       "      <td>0.06</td>\n",
       "      <td>0.0</td>\n",
       "    </tr>\n",
       "    <tr>\n",
       "      <th>241</th>\n",
       "      <td>241</td>\n",
       "      <td>Frappuccino Blended Crme</td>\n",
       "      <td>Vanilla Bean Without Whipped Cream</td>\n",
       "      <td>Grande Nonfat Milk</td>\n",
       "      <td>240</td>\n",
       "      <td>0.1</td>\n",
       "      <td>0.1</td>\n",
       "      <td>0.0</td>\n",
       "      <td>5</td>\n",
       "      <td>230</td>\n",
       "      <td>56</td>\n",
       "      <td>0</td>\n",
       "      <td>55</td>\n",
       "      <td>5.0</td>\n",
       "      <td>0.08</td>\n",
       "      <td>0.00</td>\n",
       "      <td>0.15</td>\n",
       "      <td>0.00</td>\n",
       "      <td>0.0</td>\n",
       "    </tr>\n",
       "  </tbody>\n",
       "</table>\n",
       "<p>242 rows × 19 columns</p>\n",
       "</div>"
      ],
      "text/plain": [
       "     Unnamed: 0         beverage_category  \\\n",
       "0             0                    Coffee   \n",
       "1             1                    Coffee   \n",
       "2             2                    Coffee   \n",
       "3             3                    Coffee   \n",
       "4             4   Classic Espresso Drinks   \n",
       "..          ...                       ...   \n",
       "237         237  Frappuccino Blended Crme   \n",
       "238         238  Frappuccino Blended Crme   \n",
       "239         239  Frappuccino Blended Crme   \n",
       "240         240  Frappuccino Blended Crme   \n",
       "241         241  Frappuccino Blended Crme   \n",
       "\n",
       "                                     beverage       beverage_prep  calories  \\\n",
       "0                               Brewed Coffee               Short         3   \n",
       "1                               Brewed Coffee                Tall         4   \n",
       "2                               Brewed Coffee              Grande         5   \n",
       "3                               Brewed Coffee               Venti         5   \n",
       "4                                  Caff Latte   Short Nonfat Milk        70   \n",
       "..                                        ...                 ...       ...   \n",
       "237  Strawberries  Crme Without Whipped Cream             Soymilk       320   \n",
       "238        Vanilla Bean Without Whipped Cream    Tall Nonfat Milk       170   \n",
       "239        Vanilla Bean Without Whipped Cream          Whole Milk       200   \n",
       "240        Vanilla Bean Without Whipped Cream             Soymilk       180   \n",
       "241        Vanilla Bean Without Whipped Cream  Grande Nonfat Milk       240   \n",
       "\n",
       "     total fat  trans fat  saturated fat   sodium  total carbohydrates  \\\n",
       "0          0.1        0.0            0.0        0                    5   \n",
       "1          0.1        0.0            0.0        0                   10   \n",
       "2          0.1        0.0            0.0        0                   10   \n",
       "3          0.1        0.0            0.0        0                   10   \n",
       "4          0.1        0.1            0.0        5                   75   \n",
       "..         ...        ...            ...      ...                  ...   \n",
       "237        3.2        0.4            0.0        0                  250   \n",
       "238        0.1        0.1            0.0        0                  160   \n",
       "239        3.5        2.0            0.1       10                  160   \n",
       "240        1.5        0.2            0.0        0                  160   \n",
       "241        0.1        0.1            0.0        5                  230   \n",
       "\n",
       "     cholesterol  dietary fibre  sugars  protein  vitamin a  vitamin c  \\\n",
       "0              0              0       0      0.3       0.00       0.00   \n",
       "1              0              0       0      0.5       0.00       0.00   \n",
       "2              0              0       0      1.0       0.00       0.00   \n",
       "3              0              0       0      1.0       0.00       0.00   \n",
       "4             10              0       9      6.0       0.10       0.00   \n",
       "..           ...            ...     ...      ...        ...        ...   \n",
       "237           67              1      64      5.0       0.06       0.08   \n",
       "238           39              0      38      4.0       0.06       0.00   \n",
       "239           39              0      38      3.0       0.06       0.00   \n",
       "240           37              1      35      3.0       0.04       0.00   \n",
       "241           56              0      55      5.0       0.08       0.00   \n",
       "\n",
       "     calcium  iron  caffeine  \n",
       "0       0.00  0.00     175.0  \n",
       "1       0.00  0.00     260.0  \n",
       "2       0.00  0.00     330.0  \n",
       "3       0.02  0.00     410.0  \n",
       "4       0.20  0.00      75.0  \n",
       "..       ...   ...       ...  \n",
       "237     0.20  0.10       0.0  \n",
       "238     0.10  0.00       0.0  \n",
       "239     0.10  0.00       0.0  \n",
       "240     0.10  0.06       0.0  \n",
       "241     0.15  0.00       0.0  \n",
       "\n",
       "[242 rows x 19 columns]"
      ]
     },
     "execution_count": 5,
     "metadata": {},
     "output_type": "execute_result"
    }
   ],
   "source": [
    "# load in the \"starbucks_clean.csv\" dataset\n",
    "import pandas as pd\n",
    "df = pd.read_csv(\"../data/starbucks_clean.csv\")\n",
    "df"
   ]
  },
  {
   "cell_type": "code",
   "execution_count": 39,
   "id": "global-clothing",
   "metadata": {
    "colab": {},
    "colab_type": "code",
    "id": "rIoxaSxHshvB"
   },
   "outputs": [
    {
     "data": {
      "text/plain": [
       "193.87190082644628"
      ]
     },
     "execution_count": 39,
     "metadata": {},
     "output_type": "execute_result"
    }
   ],
   "source": [
    "# this is nutritional info for starbucks items\n",
    "# let's see if we can answer some questions\n",
    "\n",
    "# what is the average # calories across all items?\n",
    "df['calories'].mean()"
   ]
  },
  {
   "cell_type": "code",
   "execution_count": 45,
   "id": "shaped-paris",
   "metadata": {
    "colab": {},
    "colab_type": "code",
    "id": "ABX7i49FshvD"
   },
   "outputs": [
    {
     "data": {
      "text/plain": [
       "33"
      ]
     },
     "execution_count": 45,
     "metadata": {},
     "output_type": "execute_result"
    }
   ],
   "source": [
    "# how many different categories of beverages are there?\n",
    "len(df['beverage'].unique())"
   ]
  },
  {
   "cell_type": "code",
   "execution_count": 46,
   "id": "organic-encyclopedia",
   "metadata": {
    "colab": {},
    "colab_type": "code",
    "id": "P9QatZAzshvE"
   },
   "outputs": [
    {
     "data": {
      "text/plain": [
       "beverage\n",
       "Banana Chocolate Smoothie                           290.000000\n",
       "Brewed Coffee                                         4.250000\n",
       "Caff Americano                                       13.750000\n",
       "Caff Latte                                          139.166667\n",
       "Caff Mocha Without Whipped Cream                    210.000000\n",
       "Cappuccino                                           90.000000\n",
       "Caramel                                             150.000000\n",
       "Caramel Apple Spice Without Whipped Cream           247.500000\n",
       "Caramel Macchiato                                   184.166667\n",
       "Caramel Without Whipped Cream                       268.888889\n",
       "Coffee                                              210.000000\n",
       "Espresso                                              7.500000\n",
       "Hot Chocolate Without Whipped Cream                 236.666667\n",
       "Iced Brewed Coffee With Classic Syrup                93.333333\n",
       "Iced Brewed Coffee With Milk  Classic Syrup         122.222222\n",
       "Java Chip                                           220.000000\n",
       "Java Chip Without Whipped Cream                     327.777778\n",
       "Mocha                                               156.666667\n",
       "Mocha Without Whipped Cream                         272.222222\n",
       "Orange Mango Banana Smoothie                        266.666667\n",
       "Shaken Iced Tazo Tea Lemonade With Classic Syrup    140.000000\n",
       "Shaken Iced Tazo Tea With Classic Syrup              86.666667\n",
       "Skinny Latte Any Flavour                            110.000000\n",
       "Strawberries  Crme Without Whipped Cream            248.888889\n",
       "Strawberry Banana Smoothie                          290.000000\n",
       "Tazo Chai Tea Latte                                 196.666667\n",
       "Tazo FullLeaf Red Tea Latte Vanilla Rooibos         148.333333\n",
       "Tazo FullLeaf Tea Latte                             148.333333\n",
       "Tazo Green Tea Latte                                275.000000\n",
       "Tazo Tea                                              0.000000\n",
       "Vanilla Bean Without Whipped Cream                  197.500000\n",
       "Vanilla Latte Or Other Flavoured Latte              195.833333\n",
       "White Chocolate Mocha Without Whipped Cream         330.000000\n",
       "Name: calories, dtype: float64"
      ]
     },
     "execution_count": 46,
     "metadata": {},
     "output_type": "execute_result"
    }
   ],
   "source": [
    "# what is the average # calories for each beverage category?\n",
    "beverages = df.groupby(\"beverage\")\n",
    "beverages[\"calories\"].mean()"
   ]
  },
  {
   "cell_type": "code",
   "execution_count": 50,
   "id": "enhanced-prior",
   "metadata": {
    "colab": {},
    "colab_type": "code",
    "id": "y8KEpYNkshvG"
   },
   "outputs": [
    {
     "data": {
      "text/plain": [
       "'Venti Nonfat Milk'"
      ]
     },
     "execution_count": 50,
     "metadata": {},
     "output_type": "execute_result"
    }
   ],
   "source": [
    "# what beverage preparation includes the most sugar on average?\n",
    "df['beverage_prep'][df['sugars'].idxmax()]"
   ]
  },
  {
   "cell_type": "code",
   "execution_count": 51,
   "id": "academic-unknown",
   "metadata": {
    "colab": {},
    "colab_type": "code",
    "id": "MnbCEJw8shvH"
   },
   "outputs": [
    {
     "data": {
      "text/plain": [
       "beverage\n",
       "Banana Chocolate Smoothie                           0.200000\n",
       "Brewed Coffee                                       0.005000\n",
       "Caff Americano                                      0.015000\n",
       "Caff Latte                                          0.350000\n",
       "Caff Mocha Without Whipped Cream                    0.300000\n",
       "Cappuccino                                          0.225000\n",
       "Caramel                                             0.110000\n",
       "Caramel Apple Spice Without Whipped Cream           0.000000\n",
       "Caramel Macchiato                                   0.283333\n",
       "Caramel Without Whipped Cream                       0.120000\n",
       "Coffee                                              0.123333\n",
       "Espresso                                            0.000000\n",
       "Hot Chocolate Without Whipped Cream                 0.350000\n",
       "Iced Brewed Coffee With Classic Syrup               0.000000\n",
       "Iced Brewed Coffee With Milk  Classic Syrup         0.080000\n",
       "Java Chip                                           0.116667\n",
       "Java Chip Without Whipped Cream                     0.125556\n",
       "Mocha                                               0.110000\n",
       "Mocha Without Whipped Cream                         0.120000\n",
       "Orange Mango Banana Smoothie                        0.100000\n",
       "Shaken Iced Tazo Tea Lemonade With Classic Syrup    0.000000\n",
       "Shaken Iced Tazo Tea With Classic Syrup             0.000000\n",
       "Skinny Latte Any Flavour                            0.337500\n",
       "Strawberries  Crme Without Whipped Cream            0.150000\n",
       "Strawberry Banana Smoothie                          0.100000\n",
       "Tazo Chai Tea Latte                                 0.216667\n",
       "Tazo FullLeaf Red Tea Latte Vanilla Rooibos         0.208333\n",
       "Tazo FullLeaf Tea Latte                             0.208333\n",
       "Tazo Green Tea Latte                                0.391667\n",
       "Tazo Tea                                            0.000000\n",
       "Vanilla Bean Without Whipped Cream                  0.112500\n",
       "Vanilla Latte Or Other Flavoured Latte              0.329167\n",
       "White Chocolate Mocha Without Whipped Cream         0.412500\n",
       "Name: calcium, dtype: float64"
      ]
     },
     "execution_count": 51,
     "metadata": {},
     "output_type": "execute_result"
    }
   ],
   "source": [
    "# what is the average % daily value calcium content for each beverage?\n",
    "beverages['calcium'].mean()"
   ]
  },
  {
   "cell_type": "code",
   "execution_count": 28,
   "id": "changing-norman",
   "metadata": {
    "colab": {},
    "colab_type": "code",
    "id": "Nv5dksj_shvJ"
   },
   "outputs": [
    {
     "name": "stdout",
     "output_type": "stream",
     "text": [
      "Tazo Tea\n"
     ]
    }
   ],
   "source": [
    "# It's bulking season. What drink should Naitian get so that he maximizes protein but minimizes calories?\n",
    "# (you can use more than one line for this one)\n",
    "# there are multiple valid approaches you can take for this (with different answers)\n",
    "# I know that you want more calories for bulking season but whatever this is MDST, not Michigan Muscle Club okay\n",
    "p = df['protein']\n",
    "c = df['calories']\n",
    "# normalize data\n",
    "n = p.shape[0]\n",
    "p_til = (p - p.mean()) / n\n",
    "c_til = (c - c.mean()) / n\n",
    "rank = p_til - c_til\n",
    "print(df['beverage'][rank.idxmax()])"
   ]
  },
  {
   "cell_type": "code",
   "execution_count": 30,
   "id": "addressed-royalty",
   "metadata": {},
   "outputs": [
    {
     "data": {
      "text/plain": [
       "<AxesSubplot:ylabel='Frequency'>"
      ]
     },
     "execution_count": 30,
     "metadata": {},
     "output_type": "execute_result"
    },
    {
     "data": {
      "image/png": "[encoded data removed]",
      "text/plain": [
       "<Figure size 432x288 with 1 Axes>"
      ]
     },
     "metadata": {
      "needs_background": "light"
     },
     "output_type": "display_data"
    }
   ],
   "source": [
    "# plot the distribution of the number of calories in drinks using matplotlib\n",
    "import matplotlib.pyplot as plt\n",
    "df['calories'].plot.hist(bins=20)"
   ]
  },
  {
   "cell_type": "code",
   "execution_count": 32,
   "id": "efficient-garbage",
   "metadata": {},
   "outputs": [
    {
     "data": {
      "text/plain": [
       "<seaborn.axisgrid.FacetGrid at 0x7f1afe367850>"
      ]
     },
     "execution_count": 32,
     "metadata": {},
     "output_type": "execute_result"
    },
    {
     "data": {
      "image/png": "[encoded data removed]",
      "text/plain": [
       "<Figure size 360x360 with 1 Axes>"
      ]
     },
     "metadata": {
      "needs_background": "light"
     },
     "output_type": "display_data"
    },
    {
     "data": {
      "image/png": "[encoded data removed]",
      "text/plain": [
       "<Figure size 360x360 with 1 Axes>"
      ]
     },
     "metadata": {
      "needs_background": "light"
     },
     "output_type": "display_data"
    }
   ],
   "source": [
    "# plot the same distribution using seaborn. what about a density plot instead?\n",
    "import seaborn as sns\n",
    "sns.displot(data=df, x=\"calories\", bins=20)\n",
    "sns.displot(data=df, x=\"calories\", kind=\"kde\")"
   ]
  },
  {
   "cell_type": "code",
   "execution_count": 33,
   "id": "chicken-aluminum",
   "metadata": {},
   "outputs": [
    {
     "data": {
      "text/plain": [
       "<AxesSubplot:xlabel='total fat', ylabel='calories'>"
      ]
     },
     "execution_count": 33,
     "metadata": {},
     "output_type": "execute_result"
    },
    {
     "data": {
      "image/png": "[encoded data removed]",
      "text/plain": [
       "<Figure size 432x288 with 1 Axes>"
      ]
     },
     "metadata": {
      "needs_background": "light"
     },
     "output_type": "display_data"
    }
   ],
   "source": [
    "# plot calories against total fat using seaborn\n",
    "sns.lineplot(data=df, x='total fat', y='calories')"
   ]
  },
  {
   "cell_type": "code",
   "execution_count": 57,
   "id": "involved-fighter",
   "metadata": {},
   "outputs": [
    {
     "data": {
      "text/plain": [
       "<seaborn.axisgrid.FacetGrid at 0x7f1afb5d2e50>"
      ]
     },
     "execution_count": 57,
     "metadata": {},
     "output_type": "execute_result"
    },
    {
     "data": {
      "image/png": "[encoded data removed]",
      "text/plain": [
       "<Figure size 360x360 with 1 Axes>"
      ]
     },
     "metadata": {
      "needs_background": "light"
     },
     "output_type": "display_data"
    },
    {
     "data": {
      "image/png": "[encoded data removed]",
      "text/plain": [
       "<Figure size 360x360 with 1 Axes>"
      ]
     },
     "metadata": {
      "needs_background": "light"
     },
     "output_type": "display_data"
    },
    {
     "data": {
      "image/png": "[encoded data removed]",
      "text/plain": [
       "<Figure size 360x360 with 1 Axes>"
      ]
     },
     "metadata": {
      "needs_background": "light"
     },
     "output_type": "display_data"
    },
    {
     "data": {
      "image/png": "[encoded data removed]",
      "text/plain": [
       "<Figure size 360x360 with 1 Axes>"
      ]
     },
     "metadata": {
      "needs_background": "light"
     },
     "output_type": "display_data"
    }
   ],
   "source": [
    "# plot the distribution of calories in Short, Tall, Grande, and Venti drinks\n",
    "# (you can use multiple lines for this)\n",
    "# twist: you should also include the Nonfat Milk drinks that also have an associated size.\n",
    "short = df.loc[(df['beverage_prep'] == 'Short') | (df['beverage_prep'] == 'Short Nonfat Milk')]\n",
    "tall = df.loc[(df['beverage_prep'] == 'Tall') | (df['beverage_prep'] == 'Tall Nonfat Milk')]\n",
    "grande = df.loc[(df['beverage_prep'] == 'Grande') | (df['beverage_prep'] == 'Grande Nonfat Milk')]\n",
    "venti = df.loc[(df['beverage_prep'] == 'Venti') | (df['beverage_prep'] == 'Venti Nonfat Milk')]\n",
    "\n",
    "sns.displot(data=short, x=\"calories\", kind=\"kde\")\n",
    "sns.displot(data=tall, x=\"calories\", kind=\"kde\")\n",
    "sns.displot(data=grande, x=\"calories\", kind=\"kde\")\n",
    "sns.displot(data=venti, x=\"calories\", kind=\"kde\")\n",
    "# you can decide how you want to visualize this. Colors? Small multiples? Density vs histogram?\n",
    "# the starbucks is your oyster.\n"
   ]
  },
  {
   "cell_type": "code",
   "execution_count": null,
   "id": "unlikely-navigator",
   "metadata": {},
   "outputs": [],
   "source": []
  }
 ],
 "metadata": {
  "kernelspec": {
   "display_name": "Python 3",
   "language": "python",
   "name": "python3"
  },
  "language_info": {
   "codemirror_mode": {
    "name": "ipython",
    "version": 3
   },
   "file_extension": ".py",
   "mimetype": "text/x-python",
   "name": "python",
   "nbconvert_exporter": "python",
   "pygments_lexer": "ipython3",
   "version": "3.8.5"
  }
 },
 "nbformat": 4,
 "nbformat_minor": 5
}
